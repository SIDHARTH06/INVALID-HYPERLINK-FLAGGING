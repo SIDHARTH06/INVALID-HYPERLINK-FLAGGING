{
  "nbformat": 4,
  "nbformat_minor": 0,
  "metadata": {
    "colab": {
      "name": "shortener.ipynb",
      "provenance": []
    },
    "kernelspec": {
      "name": "python3",
      "display_name": "Python 3"
    },
    "language_info": {
      "name": "python"
    }
  },
  "cells": [
    {
      "cell_type": "code",
      "metadata": {
        "id": "GX8Z209wQ-xW"
      },
      "source": [
        "!pip install pyshorteners"
      ],
      "execution_count": null,
      "outputs": []
    },
    {
      "cell_type": "code",
      "metadata": {
        "id": "b8GxOUajRfm-"
      },
      "source": [
        "import pyshorteners as ps"
      ],
      "execution_count": null,
      "outputs": []
    },
    {
      "cell_type": "code",
      "metadata": {
        "colab": {
          "base_uri": "https://localhost:8080/"
        },
        "id": "hTFMmb9KRmKF",
        "outputId": "59564d6c-6f9d-4a52-e07e-be97ef655623"
      },
      "source": [
        "url='https://www.youtube.com/watch?v=QK0DNbs6BTo'\n",
        "def shorten(url):\n",
        "  shortener=ps.Shortener()\n",
        "  result=shortener.tinyurl.short(url)\n",
        "  print(result)\n",
        "shorten(url)"
      ],
      "execution_count": null,
      "outputs": [
        {
          "output_type": "stream",
          "name": "stdout",
          "text": [
            "https://tinyurl.com/ygzw3dn9\n"
          ]
        }
      ]
    }
  ]
}