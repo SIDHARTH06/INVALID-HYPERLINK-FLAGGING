{
  "nbformat": 4,
  "nbformat_minor": 2,
  "metadata": {
    "colab": {
      "name": "shortener.ipynb",
      "provenance": []
    },
    "kernelspec": {
      "name": "python3",
      "display_name": "Python 3.9.6 64-bit ('flask': conda)"
    },
    "language_info": {
      "name": "python",
      "version": "3.9.6",
      "mimetype": "text/x-python",
      "codemirror_mode": {
        "name": "ipython",
        "version": 3
      },
      "pygments_lexer": "ipython3",
      "nbconvert_exporter": "python",
      "file_extension": ".py"
    },
    "interpreter": {
      "hash": "a53163c3312c95cf0dbf2632e0e55776c027f0b8f2dbcdb258f086c83f92fca0"
    }
  },
  "cells": [
    {
      "cell_type": "code",
      "execution_count": 1,
      "source": [
        "!pip install pyshorteners"
      ],
      "outputs": [
        {
          "output_type": "stream",
          "name": "stdout",
          "text": [
            "Collecting pyshorteners\n",
            "  Downloading pyshorteners-1.0.1.tar.gz (10.0 kB)\n",
            "Requirement already satisfied: requests in /opt/homebrew/Caskroom/miniforge/base/envs/FLASK/lib/python3.9/site-packages (from pyshorteners) (2.26.0)\n",
            "Requirement already satisfied: idna<4,>=2.5 in /opt/homebrew/Caskroom/miniforge/base/envs/FLASK/lib/python3.9/site-packages (from requests->pyshorteners) (3.2)\n",
            "Requirement already satisfied: certifi>=2017.4.17 in /opt/homebrew/Caskroom/miniforge/base/envs/FLASK/lib/python3.9/site-packages (from requests->pyshorteners) (2021.5.30)\n",
            "Requirement already satisfied: urllib3<1.27,>=1.21.1 in /opt/homebrew/Caskroom/miniforge/base/envs/FLASK/lib/python3.9/site-packages (from requests->pyshorteners) (1.26.7)\n",
            "Requirement already satisfied: charset-normalizer~=2.0.0 in /opt/homebrew/Caskroom/miniforge/base/envs/FLASK/lib/python3.9/site-packages (from requests->pyshorteners) (2.0.6)\n",
            "Building wheels for collected packages: pyshorteners\n",
            "  Building wheel for pyshorteners (setup.py) ... \u001b[?25ldone\n",
            "\u001b[?25h  Created wheel for pyshorteners: filename=pyshorteners-1.0.1-py3-none-any.whl size=17496 sha256=66409f3eba5c013da42e4a17c051ca2a3110090f1b7c383c809ad86a72e4b559\n",
            "  Stored in directory: /Users/sidharthdeepesh/Library/Caches/pip/wheels/51/56/d8/765ad4c919190fbd24541487735547e6c665c9381d4d689ae8\n",
            "Successfully built pyshorteners\n",
            "Installing collected packages: pyshorteners\n",
            "Successfully installed pyshorteners-1.0.1\n"
          ]
        }
      ],
      "metadata": {
        "id": "GX8Z209wQ-xW"
      }
    },
    {
      "cell_type": "code",
      "execution_count": 2,
      "source": [
        "import pyshorteners as ps"
      ],
      "outputs": [],
      "metadata": {
        "id": "b8GxOUajRfm-"
      }
    },
    {
      "cell_type": "code",
      "execution_count": 3,
      "source": [
        "url='https://www.youtube.com/watch?v=QK0DNbs6BTo'\n",
        "def shorten(url):\n",
        "  shortener=ps.Shortener()\n",
        "  result=shortener.tinyurl.short(url)\n",
        "  print(result)\n",
        "shorten(url)"
      ],
      "outputs": [
        {
          "output_type": "stream",
          "name": "stdout",
          "text": [
            "https://tinyurl.com/ygzw3dn9\n"
          ]
        }
      ],
      "metadata": {
        "colab": {
          "base_uri": "https://localhost:8080/"
        },
        "id": "hTFMmb9KRmKF",
        "outputId": "59564d6c-6f9d-4a52-e07e-be97ef655623"
      }
    }
  ]
}