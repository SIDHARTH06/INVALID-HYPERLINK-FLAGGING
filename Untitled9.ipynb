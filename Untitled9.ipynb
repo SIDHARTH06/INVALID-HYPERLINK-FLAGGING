{
  "nbformat": 4,
  "nbformat_minor": 0,
  "metadata": {
    "colab": {
      "name": "Untitled9.ipynb",
      "provenance": [],
      "collapsed_sections": []
    },
    "kernelspec": {
      "name": "python3",
      "display_name": "Python 3"
    },
    "language_info": {
      "name": "python"
    }
  },
  "cells": [
    {
      "cell_type": "code",
      "metadata": {
        "id": "uRrkDjbZcetp"
      },
      "source": [
        "!pip install requests\n",
        "!pip install BeautifulSoup4\n"
      ],
      "execution_count": null,
      "outputs": []
    },
    {
      "cell_type": "code",
      "metadata": {
        "id": "rNgLk2ihc6Ko"
      },
      "source": [
        "import requests as req\n",
        "from bs4 import BeautifulSoup\n",
        "import os"
      ],
      "execution_count": 3,
      "outputs": []
    },
    {
      "cell_type": "code",
      "metadata": {
        "id": "eKC7fQiydI7Y"
      },
      "source": [
        "url='http://www.metalagemachineries.com/'\n",
        "content=req.get(url).text\n",
        "print(content)"
      ],
      "execution_count": null,
      "outputs": []
    },
    {
      "cell_type": "code",
      "metadata": {
        "colab": {
          "base_uri": "https://localhost:8080/"
        },
        "id": "C0haRIbMeGtJ",
        "outputId": "c0de056c-877a-4233-c18f-29dc82bf8d76"
      },
      "source": [
        "soup=BeautifulSoup(content,'lxml')\n",
        "images=soup.find_all('img')\n",
        "print(images)\n",
        "try:\n",
        "  os.mkdir(os.path.join(os.getcwd(),folder))\n",
        "  os.chdir(os.path.join(os.getcwd(),folder))\n",
        "except:\n",
        "  pass"
      ],
      "execution_count": 22,
      "outputs": [
        {
          "output_type": "stream",
          "name": "stdout",
          "text": [
            "[<img src=\"images/21.png\"/>, <img alt=\"\" class=\"img-responsive zoom-img\" src=\"images/feature-img.jpg\"/>, <img alt=\"\" class=\"img-responsive zoom-img\" src=\"images/rice.jpg\"/>, <img alt=\"\" class=\"img-responsive zoom-img\" src=\"images/ayur.jpg\"/>, <img alt=\"\" class=\"img-responsive zoom-img\" src=\"images/cat.jpg\"/>]\n"
          ]
        }
      ]
    },
    {
      "cell_type": "code",
      "metadata": {
        "id": "21keqqVOiRYv"
      },
      "source": [
        ""
      ],
      "execution_count": 5,
      "outputs": []
    },
    {
      "cell_type": "code",
      "metadata": {
        "colab": {
          "base_uri": "https://localhost:8080/"
        },
        "id": "hvDVMe78egze",
        "outputId": "233af2bf-632d-444e-a240-352df2c7b96b"
      },
      "source": [
        "\n",
        "index=0\n",
        "for image in images:\n",
        "  index=index+1\n",
        "  link=url+image['src']\n",
        "  name=str(index)+'.jpg'\n",
        "  print(link)\n",
        "  \n",
        "  with open(name,'wb') as f:\n",
        "    img=req.get(link)\n",
        "    f.write(img.content)"
      ],
      "execution_count": 23,
      "outputs": [
        {
          "output_type": "stream",
          "name": "stdout",
          "text": [
            "http://www.metalagemachineries.com/images/21.png\n",
            "http://www.metalagemachineries.com/images/feature-img.jpg\n",
            "http://www.metalagemachineries.com/images/rice.jpg\n",
            "http://www.metalagemachineries.com/images/ayur.jpg\n",
            "http://www.metalagemachineries.com/images/cat.jpg\n"
          ]
        }
      ]
    }
  ]
}