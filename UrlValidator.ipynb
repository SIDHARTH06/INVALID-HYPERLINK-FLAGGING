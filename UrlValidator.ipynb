{
  "nbformat": 4,
  "nbformat_minor": 2,
  "metadata": {
    "colab": {
      "name": "UrlValidator.ipynb",
      "provenance": []
    },
    "kernelspec": {
      "name": "python3",
      "display_name": "Python 3.8.2 64-bit"
    },
    "language_info": {
      "name": "python",
      "version": "3.8.2",
      "mimetype": "text/x-python",
      "codemirror_mode": {
        "name": "ipython",
        "version": 3
      },
      "pygments_lexer": "ipython3",
      "nbconvert_exporter": "python",
      "file_extension": ".py"
    },
    "interpreter": {
      "hash": "33ca0c6be6a4cfe949435193859f7fa9a53fcca5e65737d3e9ae17e8454b6763"
    }
  },
  "cells": [
    {
      "cell_type": "code",
      "execution_count": 1,
      "source": [
        "!pip install BeautifulSoup4\r\n",
        "!pip install requests\r\n",
        "!pip install validators"
      ],
      "outputs": [
        {
          "output_type": "stream",
          "name": "stderr",
          "text": [
            "Traceback (most recent call last):\n",
            "  File \"c:\\users\\lenovo\\python\\python38\\lib\\runpy.py\", line 193, in _run_module_as_main\n",
            "    return _run_code(code, main_globals, None,\n",
            "  File \"c:\\users\\lenovo\\python\\python38\\lib\\runpy.py\", line 86, in _run_code\n",
            "    exec(code, run_globals)\n",
            "  File \"C:\\Users\\LENOVO\\Python\\Python38\\Scripts\\pip.exe\\__main__.py\", line 5, in <module>\n",
            "ModuleNotFoundError: No module named 'pip._internal.cli.main'\n",
            "Traceback (most recent call last):\n",
            "  File \"c:\\users\\lenovo\\python\\python38\\lib\\runpy.py\", line 193, in _run_module_as_main\n",
            "    return _run_code(code, main_globals, None,\n",
            "  File \"c:\\users\\lenovo\\python\\python38\\lib\\runpy.py\", line 86, in _run_code\n",
            "    exec(code, run_globals)\n",
            "  File \"C:\\Users\\LENOVO\\Python\\Python38\\Scripts\\pip.exe\\__main__.py\", line 5, in <module>\n",
            "ModuleNotFoundError: No module named 'pip._internal.cli.main'\n",
            "Traceback (most recent call last):\n",
            "  File \"c:\\users\\lenovo\\python\\python38\\lib\\runpy.py\", line 193, in _run_module_as_main\n",
            "    return _run_code(code, main_globals, None,\n",
            "  File \"c:\\users\\lenovo\\python\\python38\\lib\\runpy.py\", line 86, in _run_code\n",
            "    exec(code, run_globals)\n",
            "  File \"C:\\Users\\LENOVO\\Python\\Python38\\Scripts\\pip.exe\\__main__.py\", line 5, in <module>\n",
            "ModuleNotFoundError: No module named 'pip._internal.cli.main'\n"
          ]
        }
      ],
      "metadata": {
        "colab": {
          "base_uri": "https://localhost:8080/"
        },
        "id": "tZNEkbveqLQM",
        "outputId": "d7269fb0-8900-4942-db8f-fc63adfb3233"
      }
    },
    {
      "cell_type": "code",
      "execution_count": 4,
      "source": [
        "import validators\r\n",
        "from bs4 import  BeautifulSoup\r\n",
        "import requests as req"
      ],
      "outputs": [],
      "metadata": {
        "id": "MqxP0N6CqeOQ"
      }
    },
    {
      "cell_type": "code",
      "execution_count": 5,
      "source": [
        "def validate(url):\r\n",
        "  flag=validators.url(url)\r\n",
        "  return flag"
      ],
      "outputs": [],
      "metadata": {
        "id": "TScZKthmq2Nl"
      }
    },
    {
      "cell_type": "code",
      "execution_count": 6,
      "source": [
        "  query='http://www.nitc.ac.in/' #pull from input\r\n",
        "  content=req.get(query).text\r\n",
        "  soup=BeautifulSoup(content,'lxml')\r\n",
        "  urls=soup.find_all('a',href=True)\r\n",
        "  for url in urls:\r\n",
        "    toggler=validate(url['href'])\r\n",
        "    if toggler==True:\r\n",
        "      print(url['href'])\r\n",
        "\r\n",
        "  \r\n",
        "  "
      ],
      "outputs": [
        {
          "output_type": "stream",
          "name": "stdout",
          "text": [
            "http://nitc.ac.in/index.php/?url=/\n",
            "http://translate.google.co.in/translate?sl=en&tl=hi&js=n&prev=_t&hl=en&ie=UTF-8&u=nitc.ac.in\n",
            "http://www.mail.nitc.ac.in\n",
            "http://www.nitc.ac.in/nitc/rti/index.htm\n",
            "https://www.youtube.com/c/nitcalicutofficialchannel\n",
            "https://twitter.com/nitcofficial\n",
            "https://www.instagram.com/nitcofficial/\n",
            "http://www.nitc.ac.in/index.php/?url=/\n",
            "http://www.nitc.ac.in/index.php/?url=content/index/22344/2/6820/6820\n",
            "http://www.placement.nitc.ac.in\n",
            "http://nitc.ac.in/diamond.html\n",
            "http://www.nirfindia.org/2021/ArchitectureRanking.html\n",
            "http://www.nirfindia.org/2021/EngineeringRanking.html\n",
            "http://www.nitc.ac.in/app/webroot/img/upload/newsfile_2361.pdf\n",
            "http://www.nitc.ac.in/app/webroot/img/upload/newsfile_2347.pdf\n",
            "http://www.nitc.ac.in/app/webroot/img/upload/newsfile_2625.pdf\n",
            "http://www.nitc.ac.in/app/webroot/img/upload/newsfile_2624.pdf\n",
            "http://www.nitc.ac.in/app/webroot/img/upload/newsfile_2493.jpg\n",
            "http://www.nitc.ac.in/app/webroot/img/upload/newsfile_2494.jpg\n",
            "http://www.nitc.ac.in/registrar_advt_2021/Registrar_notification_2021.pdf\n",
            "http://www.nitc.ac.in/app/webroot/img/upload/newsfile_2618.pdf\n",
            "http://www.nitc.ac.in/app/webroot/img/upload/newsfile_2617.pdf\n",
            "http://www.nitc.ac.in/app/webroot/img/upload/newsfile_2616.pdf\n",
            "http://www.nitc.ac.in/app/webroot/img/upload/newsfile_2615.pdf\n",
            "http://www.nitc.ac.in/app/webroot/img/upload/newsfile_2614.pdf\n",
            "http://www.nitc.ac.in/app/webroot/img/upload/newsfile_2613.pdf\n",
            "http://www.nitc.ac.in/app/webroot/img/upload/newsfile_2612.pdf\n",
            "http://www.nitc.ac.in/app/webroot/img/upload/newsfile_2609.pdf\n",
            "http://www.nitc.ac.in/app/webroot/img/upload/newsfile_2608.pdf\n",
            "http://www.nitc.ac.in/app/webroot/img/upload/newsfile_2603.pdf\n",
            "http://nmrworkshop.nitc.ac.in/\n",
            "http://www.nitc.ac.in/app/webroot/img/upload/newsfile_2540.pdf\n",
            "http://couns-promo.mnit.ac.in\n",
            "http://www.nitc.ac.in/app/webroot/img/upload/newsfile_2446.pdf\n",
            "http://dss.nitc.ac.in/Certissue/Login.aspx\n",
            "http://www.nitc.ac.in/index.php/?url=content/submenu/7706/2\n",
            "http://dss.nitc.ac.in\n",
            "http://www.nitc.ac.in/res_cons/\n",
            "http://www.sgc.nitc.ac.in/\n",
            "http://www.nitc.ac.in/grievance/index.html\n",
            "http://www.nitc.ac.in/index.php/?url=content/submenu/3229/2\n",
            "http://www.tbi.nitc.ac.in/\n",
            "http://www.nitc.ac.in/index.php/?url=content/index/158/2/115/115\n",
            "http://ipphone.nitc.ac.in\n",
            "http://nitc.ac.in/teqip/\n",
            "http://nitc.ac.in/app/webroot/img/upload/raging.html\n",
            "http://www.nitc.ac.in/nirman/\n",
            "http://www.nitc.ac.in/GIAN/\n",
            "http://www.nitc.ac.in/app/webroot/img/upload/509995266.pdf\n",
            "http://www.nitc.ac.in/index.php/?url=content/submenu/4210/2\n",
            "http://nitc.ac.in/crecpta\n",
            "http://www.nitc.ac.in/test/newslet/\n",
            "http://www.nitc.ac.in/nitcinmedia/\n",
            "http://www.nitc.ac.in/app/webroot/img/upload/373629187.pdf\n",
            "http://www.nitc.ac.in/app/webroot/img/upload/504758745.pdf\n",
            "http://www.library.nitc.ac.in/\n",
            "http://www.nitc.ac.in/app/webroot/img/upload/439957712.pdf\n",
            "http://www.nitc.ac.in/app/webroot/img/upload/243370220.pdf\n",
            "https://eduserver.nitc.ac.in/login/index.php\n",
            "http://www.nitc.ac.in/app/webroot/img/upload/822254850.pdf\n",
            "http://www.nitc.ac.in/app/webroot/img/upload/646901287.pdf\n",
            "http://www.nitc.ac.in/index.php/?url=content/submenu/199/5/0/199/197\n",
            "http://www.nitc.ac.in/index.php/?url=content/submenu/1478/8\n",
            "http://www.nitc.ac.in/index.php/?url=content/submenu/1484/8\n",
            "http://www.nitc.ac.in/app/webroot/img/upload/66393286.pdf\n",
            "http://www.nitc.ac.in/crecpta/\n",
            "http://www.sakshat.ac.in/\n"
          ]
        }
      ],
      "metadata": {
        "colab": {
          "base_uri": "https://localhost:8080/"
        },
        "id": "dPienOIfry4u",
        "outputId": "562b82c2-e01b-4d36-ceaf-f340b96047e0"
      }
    }
  ]
}