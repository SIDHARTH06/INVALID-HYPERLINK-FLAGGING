{
  "nbformat": 4,
  "nbformat_minor": 0,
  "metadata": {
    "colab": {
      "name": "UrlValidator.ipynb",
      "provenance": []
    },
    "kernelspec": {
      "name": "python3",
      "display_name": "Python 3"
    },
    "language_info": {
      "name": "python"
    }
  },
  "cells": [
    {
      "cell_type": "code",
      "metadata": {
        "colab": {
          "base_uri": "https://localhost:8080/"
        },
        "id": "tZNEkbveqLQM",
        "outputId": "d7269fb0-8900-4942-db8f-fc63adfb3233"
      },
      "source": [
        "!pip install BeautifulSoup4\n",
        "!pip install requests\n",
        "!pip install validators"
      ],
      "execution_count": null,
      "outputs": [
        {
          "output_type": "stream",
          "name": "stdout",
          "text": [
            "Requirement already satisfied: BeautifulSoup4 in /usr/local/lib/python3.7/dist-packages (4.6.3)\n",
            "Requirement already satisfied: requests in /usr/local/lib/python3.7/dist-packages (2.23.0)\n",
            "Requirement already satisfied: urllib3!=1.25.0,!=1.25.1,<1.26,>=1.21.1 in /usr/local/lib/python3.7/dist-packages (from requests) (1.24.3)\n",
            "Requirement already satisfied: idna<3,>=2.5 in /usr/local/lib/python3.7/dist-packages (from requests) (2.10)\n",
            "Requirement already satisfied: chardet<4,>=3.0.2 in /usr/local/lib/python3.7/dist-packages (from requests) (3.0.4)\n",
            "Requirement already satisfied: certifi>=2017.4.17 in /usr/local/lib/python3.7/dist-packages (from requests) (2021.5.30)\n",
            "Collecting validators\n",
            "  Downloading validators-0.18.2-py3-none-any.whl (19 kB)\n",
            "Requirement already satisfied: decorator>=3.4.0 in /usr/local/lib/python3.7/dist-packages (from validators) (4.4.2)\n",
            "Requirement already satisfied: six>=1.4.0 in /usr/local/lib/python3.7/dist-packages (from validators) (1.15.0)\n",
            "Installing collected packages: validators\n",
            "Successfully installed validators-0.18.2\n"
          ]
        }
      ]
    },
    {
      "cell_type": "code",
      "metadata": {
        "id": "MqxP0N6CqeOQ"
      },
      "source": [
        "import validators\n",
        "from bs4 import  BeautifulSoup\n",
        "import requests as req"
      ],
      "execution_count": null,
      "outputs": []
    },
    {
      "cell_type": "code",
      "metadata": {
        "id": "TScZKthmq2Nl"
      },
      "source": [
        "def validate(url):\n",
        "  flag=validators.url(url)\n",
        "  return flag"
      ],
      "execution_count": 22,
      "outputs": []
    },
    {
      "cell_type": "code",
      "metadata": {
        "colab": {
          "base_uri": "https://localhost:8080/"
        },
        "id": "dPienOIfry4u",
        "outputId": "562b82c2-e01b-4d36-ceaf-f340b96047e0"
      },
      "source": [
        "  query='http://www.nitc.ac.in/' #pull from input\n",
        "  content=req.get(query).text\n",
        "  soup=BeautifulSoup(content,'lxml')\n",
        "  urls=soup.find_all('a',href=True)\n",
        "  for url in urls:\n",
        "    toggler=validate(url['href'])\n",
        "    if toggler==True:\n",
        "      print(url['href'])\n",
        "\n",
        "  \n",
        "  "
      ],
      "execution_count": 30,
      "outputs": [
        {
          "output_type": "stream",
          "name": "stdout",
          "text": [
            "http://nitc.ac.in/index.php/?url=/\n",
            "http://translate.google.co.in/translate?sl=en&tl=hi&js=n&prev=_t&hl=en&ie=UTF-8&u=nitc.ac.in\n",
            "http://www.mail.nitc.ac.in\n",
            "http://www.nitc.ac.in/nitc/rti/index.htm\n",
            "https://www.youtube.com/c/nitcalicutofficialchannel\n",
            "https://twitter.com/nitcofficial\n",
            "https://www.instagram.com/nitcofficial/\n",
            "http://www.nitc.ac.in/index.php/?url=/\n",
            "http://www.nitc.ac.in/index.php/?url=content/index/22344/2/6820/6820\n",
            "http://www.placement.nitc.ac.in\n",
            "http://nitc.ac.in/diamond.html\n",
            "http://www.nirfindia.org/2021/ArchitectureRanking.html\n"
          ]
        }
      ]
    }
  ]
}